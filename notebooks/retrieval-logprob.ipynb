{
 "cells": [
  {
   "cell_type": "code",
   "execution_count": 8,
   "id": "6c4bce6f",
   "metadata": {},
   "outputs": [],
   "source": [
    "# Install the latest OpenAI library and python-dotenv\n",
    "!pip install --upgrade -qq openai python-dotenv numpy"
   ]
  },
  {
   "cell_type": "code",
   "execution_count": 9,
   "id": "461054b5",
   "metadata": {},
   "outputs": [],
   "source": [
    "import os\n",
    "from dotenv import load_dotenv\n",
    "from openai import OpenAI\n",
    "\n",
    "# Load environment variables from .env file\n",
    "load_dotenv()\n",
    "\n",
    "# Initialize OpenAI client\n",
    "client = OpenAI(\n",
    "    api_key=os.getenv('OPENAI_API_KEY')\n",
    ")"
   ]
  },
  {
   "cell_type": "code",
   "execution_count": 4,
   "id": "5a4572a7",
   "metadata": {},
   "outputs": [
    {
     "name": "stdout",
     "output_type": "stream",
     "text": [
      "API call successful!\n",
      "Model used: gpt-4o-2024-08-06\n",
      "Response: Hello! Here's a fun fact about artificial intelligence: AI can generate art! Using techniques like neural networks and algorithms, AI can create original artworks, music, and even poetry. One famous example is the AI-generated portrait called \"Edmond de Belamy,\" which was created by a Paris-based art collective using a generative adversarial network (GAN). This portrait was auctioned at Christie's for over $432,000 in 2018, showing that AI-generated art can be both creative and valuable.\n",
      "Usage: CompletionUsage(completion_tokens=101, prompt_tokens=30, total_tokens=131, completion_tokens_details=CompletionTokensDetails(accepted_prediction_tokens=0, audio_tokens=0, reasoning_tokens=0, rejected_prediction_tokens=0), prompt_tokens_details=PromptTokensDetails(audio_tokens=0, cached_tokens=0))\n"
     ]
    }
   ],
   "source": [
    "# Make a simple API call to test the connection\n",
    "try:\n",
    "    response = client.chat.completions.create(\n",
    "        model=\"gpt-4o\",\n",
    "        messages=[\n",
    "            {\"role\": \"system\", \"content\": \"You are a helpful assistant.\"},\n",
    "            {\"role\": \"user\", \"content\": \"Hello! Can you tell me a fun fact about artificial intelligence?\"}\n",
    "        ],\n",
    "        max_tokens=150,\n",
    "        temperature=0.7\n",
    "    )\n",
    "    \n",
    "    print(f\"Model used: {response.model}\")\n",
    "    print(f\"Response: {response.choices[0].message.content}\")\n",
    "    print(f\"Usage: {response.usage}\")\n",
    "    \n",
    "except Exception as e:\n",
    "    print(f\"Error making API call: {e}\")"
   ]
  },
  {
   "cell_type": "code",
   "execution_count": null,
   "id": "3f581cd1",
   "metadata": {},
   "outputs": [],
   "source": [
    "# Function to test log probabilities for any question\n",
    "import numpy as np\n",
    "\n",
    "def analyze_logprobs(input_question):\n",
    "    \"\"\"\n",
    "    Analyze log probabilities for a given question\n",
    "    \"\"\"\n",
    "    \n",
    "    try:\n",
    "        response = client.chat.completions.create(\n",
    "            model=\"gpt-4o-mini\",\n",
    "            messages=[\n",
    "                {\"role\": \"system\", \"content\": \"Answer questions with only the essential information, as briefly as possible. For questions asking for a specific name or place, respond with just that word.\"},\n",
    "                {\"role\": \"user\", \"content\": input_question}\n",
    "            ],\n",
    "            max_tokens=50,\n",
    "            temperature=0.0,\n",
    "            logprobs=True,\n",
    "            top_logprobs=5\n",
    "        )\n",
    "        \n",
    "        print(f\"{'='*60}\")\n",
    "        print(f\"Question: {input_question}\")\n",
    "        print(f\"Response: {response.choices[0].message.content}\")\n",
    "        print(f\"{'='*60}\")\n",
    "        \n",
    "        # Display log probabilities if available\n",
    "        if response.choices[0].logprobs:\n",
    "            print(\"\\nLog probabilities for first 5 tokens:\")\n",
    "            for token_idx, token_content in enumerate(response.choices[0].logprobs.content[:5]):  # Show first 5 tokens\n",
    "                print(f\"\\nToken position {token_idx+1}:\")\n",
    "                top_logprobs = token_content.top_logprobs\n",
    "                for logprob_idx, logprob in enumerate(top_logprobs, start=1):\n",
    "                    linear_prob = np.round(np.exp(logprob.logprob)*100, 2)\n",
    "                    print(f\"  Output token {logprob_idx}: '{logprob.token}', logprobs: {logprob.logprob:.6f}, linear probability: {linear_prob}%\")\n",
    "        \n",
    "        print(\"\\n\" + \"=\"*60 + \"\\n\")\n",
    "        \n",
    "    except Exception as e:\n",
    "        print(f\"Error making API call for '{input_question}': {e}\")"
   ]
  },
  {
   "cell_type": "code",
   "execution_count": 69,
   "id": "d4f1c9fc",
   "metadata": {},
   "outputs": [
    {
     "name": "stdout",
     "output_type": "stream",
     "text": [
      "Starting log probability analysis...\n",
      "============================================================\n",
      "Question: What is the capital of Koja?\n",
      "Response: Unknown.\n",
      "============================================================\n",
      "\n",
      "Log probabilities for first 5 tokens:\n",
      "\n",
      "Token position 1:\n",
      "  Output token 1: 'Unknown', logprobs: -0.624408, linear probability: 53.56%\n",
      "  Output token 2: 'N', logprobs: -1.124408, linear probability: 32.48%\n",
      "  Output token 3: 'T', logprobs: -3.124408, linear probability: 4.4%\n",
      "  Output token 4: 'Ko', logprobs: -3.249408, linear probability: 3.88%\n",
      "  Output token 5: 'None', logprobs: -4.124408, linear probability: 1.62%\n",
      "\n",
      "Token position 2:\n",
      "  Output token 1: '.', logprobs: -0.201426, linear probability: 81.76%\n",
      "  Output token 2: '<|end|>', logprobs: -1.701426, linear probability: 18.24%\n",
      "  Output token 3: '<|end|>', logprobs: -11.701426, linear probability: 0.0%\n",
      "  Output token 4: '!', logprobs: -13.826426, linear probability: 0.0%\n",
      "  Output token 5: '。', logprobs: -13.826426, linear probability: 0.0%\n",
      "\n",
      "============================================================\n",
      "\n"
     ]
    }
   ],
   "source": [
    "# Test various questions to compare log probabilities\n",
    "print(\"Starting log probability analysis...\")\n",
    "\n",
    "analyze_logprobs(\"What is the capital of Koja?\")"
   ]
  }
 ],
 "metadata": {
  "kernelspec": {
   "display_name": "Python 3",
   "language": "python",
   "name": "python3"
  },
  "language_info": {
   "codemirror_mode": {
    "name": "ipython",
    "version": 3
   },
   "file_extension": ".py",
   "mimetype": "text/x-python",
   "name": "python",
   "nbconvert_exporter": "python",
   "pygments_lexer": "ipython3",
   "version": "3.12.11"
  }
 },
 "nbformat": 4,
 "nbformat_minor": 5
}
